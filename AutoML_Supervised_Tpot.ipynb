{
 "cells": [
  {
   "cell_type": "code",
   "execution_count": 1,
   "id": "a014b159",
   "metadata": {},
   "outputs": [],
   "source": [
    "import pandas as pd\n",
    "import numpy as np\n",
    "import seaborn as sns\n",
    "import matplotlib.pyplot as plt\n",
    "%matplotlib inline\n",
    "\n",
    "from tpot import TPOTClassifier\n",
    "from sklearn.model_selection import StratifiedKFold"
   ]
  },
  {
   "cell_type": "code",
   "execution_count": 2,
   "id": "b6876b1c",
   "metadata": {},
   "outputs": [],
   "source": [
    "X_features = pd.read_csv('df_cleaned.csv')\n",
    "y_target = pd.read_csv('y_target.csv')"
   ]
  },
  {
   "cell_type": "code",
   "execution_count": 3,
   "id": "5dcf2365",
   "metadata": {},
   "outputs": [
    {
     "data": {
      "text/plain": [
       "((1296675, 8), (1296675, 2))"
      ]
     },
     "execution_count": 3,
     "metadata": {},
     "output_type": "execute_result"
    }
   ],
   "source": [
    "X_features.shape, y_target.shape"
   ]
  },
  {
   "cell_type": "code",
   "execution_count": 4,
   "id": "fda7b83a",
   "metadata": {},
   "outputs": [
    {
     "data": {
      "text/html": [
       "<div><div id=c1505ad6-c2fe-46d9-8b0b-7259f3a82219 style=\"display:none; background-color:#9D6CFF; color:white; width:200px; height:30px; padding-left:5px; border-radius:4px; flex-direction:row; justify-content:space-around; align-items:center;\" onmouseover=\"this.style.backgroundColor='#BA9BF8'\" onmouseout=\"this.style.backgroundColor='#9D6CFF'\" onclick=\"window.commands?.execute('create-mitosheet-from-dataframe-output');\">See Full Dataframe in Mito</div> <script> if (window.commands?.hasCommand('create-mitosheet-from-dataframe-output')) document.getElementById('c1505ad6-c2fe-46d9-8b0b-7259f3a82219').style.display = 'flex' </script> <table border=\"1\" class=\"dataframe\">\n",
       "  <thead>\n",
       "    <tr style=\"text-align: right;\">\n",
       "      <th></th>\n",
       "      <th>Unnamed: 0</th>\n",
       "      <th>is_fraud</th>\n",
       "    </tr>\n",
       "  </thead>\n",
       "  <tbody>\n",
       "    <tr>\n",
       "      <th>0</th>\n",
       "      <td>0</td>\n",
       "      <td>0</td>\n",
       "    </tr>\n",
       "    <tr>\n",
       "      <th>1</th>\n",
       "      <td>1</td>\n",
       "      <td>0</td>\n",
       "    </tr>\n",
       "    <tr>\n",
       "      <th>2</th>\n",
       "      <td>2</td>\n",
       "      <td>0</td>\n",
       "    </tr>\n",
       "    <tr>\n",
       "      <th>3</th>\n",
       "      <td>3</td>\n",
       "      <td>0</td>\n",
       "    </tr>\n",
       "    <tr>\n",
       "      <th>4</th>\n",
       "      <td>4</td>\n",
       "      <td>0</td>\n",
       "    </tr>\n",
       "  </tbody>\n",
       "</table></div>"
      ],
      "text/plain": [
       "   Unnamed: 0  is_fraud\n",
       "0           0         0\n",
       "1           1         0\n",
       "2           2         0\n",
       "3           3         0\n",
       "4           4         0"
      ]
     },
     "execution_count": 4,
     "metadata": {},
     "output_type": "execute_result"
    }
   ],
   "source": [
    "y_target.head()"
   ]
  },
  {
   "cell_type": "code",
   "execution_count": 5,
   "id": "2eab059c",
   "metadata": {},
   "outputs": [],
   "source": [
    "y = y_target.is_fraud"
   ]
  },
  {
   "cell_type": "code",
   "execution_count": 6,
   "id": "8a308df4",
   "metadata": {},
   "outputs": [
    {
     "data": {
      "application/vnd.jupyter.widget-view+json": {
       "model_id": "",
       "version_major": 2,
       "version_minor": 0
      },
      "text/plain": [
       "Optimization Progress:   0%|          | 0/300 [00:00<?, ?pipeline/s]"
      ]
     },
     "metadata": {},
     "output_type": "display_data"
    },
    {
     "name": "stdout",
     "output_type": "stream",
     "text": [
      "\n",
      "Generation 1 - Current best internal CV score: 0.9942113482679258\n",
      "\n",
      "Generation 2 - Current best internal CV score: 0.9942113482679258\n",
      "\n",
      "Generation 3 - Current best internal CV score: 0.9982671062316886\n",
      "\n",
      "Generation 4 - Current best internal CV score: 0.9982671062316886\n",
      "\n",
      "Generation 5 - Current best internal CV score: 0.9982671062316886\n",
      "\n",
      "Best pipeline: BernoulliNB(DecisionTreeClassifier(VarianceThreshold(SelectPercentile(input_matrix, percentile=44), threshold=0.0001), criterion=entropy, max_depth=9, min_samples_leaf=1, min_samples_split=14), alpha=0.001, fit_prior=True)\n"
     ]
    }
   ],
   "source": [
    "# model evaluation definition, 10 fold StratifiedKFold used here\n",
    "cv = StratifiedKFold(n_splits=10)\n",
    "# define TPOTClassifier\n",
    "model = TPOTClassifier(generations=5, population_size=50, cv=cv, scoring='accuracy', \n",
    "                       verbosity=2, random_state=1, n_jobs=-1)\n",
    "# performing the search for best fit\n",
    "model.fit(X_features, y)\n",
    "# exporting best model\n",
    "model.export('tpot_data.py')"
   ]
  },
  {
   "cell_type": "code",
   "execution_count": null,
   "id": "6bf1a3a9",
   "metadata": {},
   "outputs": [],
   "source": []
  }
 ],
 "metadata": {
  "kernelspec": {
   "display_name": "Python 3 (ipykernel)",
   "language": "python",
   "name": "python3"
  },
  "language_info": {
   "codemirror_mode": {
    "name": "ipython",
    "version": 3
   },
   "file_extension": ".py",
   "mimetype": "text/x-python",
   "name": "python",
   "nbconvert_exporter": "python",
   "pygments_lexer": "ipython3",
   "version": "3.9.12"
  }
 },
 "nbformat": 4,
 "nbformat_minor": 5
}
