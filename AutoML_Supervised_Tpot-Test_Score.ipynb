{
 "cells": [
  {
   "cell_type": "code",
   "execution_count": 1,
   "id": "6bf1a3a9",
   "metadata": {},
   "outputs": [],
   "source": [
    "import numpy as np\n",
    "import pandas as pd\n",
    "from sklearn.feature_selection import SelectPercentile, VarianceThreshold, f_classif\n",
    "from sklearn.model_selection import train_test_split\n",
    "from sklearn.naive_bayes import BernoulliNB\n",
    "from sklearn.pipeline import make_pipeline, make_union\n",
    "from sklearn.tree import DecisionTreeClassifier\n",
    "from tpot.builtins import StackingEstimator\n",
    "from tpot.export_utils import set_param_recursive"
   ]
  },
  {
   "cell_type": "code",
   "execution_count": 2,
   "id": "cdcdac02",
   "metadata": {},
   "outputs": [],
   "source": [
    "df_test = pd.read_csv('dftest_cleaned.csv')\n",
    "df_test.drop('Unnamed: 0', axis=1)\n",
    "features = df_test[['hourly_basis', 'Age', 'category', 'amount_qt', 'merchant', 'job','transaction_id']]\n",
    "target = df_test.is_fraud"
   ]
  },
  {
   "cell_type": "code",
   "execution_count": 3,
   "id": "8fdec8d6",
   "metadata": {},
   "outputs": [],
   "source": [
    "# NOTE: Make sure that the outcome column is labeled 'target' in the data file\n",
    "training_features, testing_features, training_target, testing_target = \\\n",
    "            train_test_split(features, target, random_state=1)"
   ]
  },
  {
   "cell_type": "code",
   "execution_count": 8,
   "id": "30139911",
   "metadata": {},
   "outputs": [],
   "source": [
    "# Average CV score on the training set was: 0.9982671062316886\n",
    "exported_pipeline = make_pipeline(\n",
    "    SelectPercentile(score_func=f_classif, percentile=44),\n",
    "    VarianceThreshold(threshold=0.0001),\n",
    "    StackingEstimator(estimator=DecisionTreeClassifier(criterion=\"entropy\", max_depth=9, min_samples_leaf=1, min_samples_split=14)),\n",
    "    BernoulliNB(alpha=0.001, fit_prior=True)\n",
    ")\n",
    "# Fix random state for all the steps in exported pipeline\n",
    "set_param_recursive(exported_pipeline.steps, 'random_state', 1)\n",
    "\n",
    "exported_pipeline.fit(training_features, training_target)\n",
    "results = exported_pipeline.predict(testing_features)"
   ]
  },
  {
   "cell_type": "code",
   "execution_count": null,
   "id": "63054d69",
   "metadata": {},
   "outputs": [],
   "source": []
  }
 ],
 "metadata": {
  "kernelspec": {
   "display_name": "Python 3 (ipykernel)",
   "language": "python",
   "name": "python3"
  },
  "language_info": {
   "codemirror_mode": {
    "name": "ipython",
    "version": 3
   },
   "file_extension": ".py",
   "mimetype": "text/x-python",
   "name": "python",
   "nbconvert_exporter": "python",
   "pygments_lexer": "ipython3",
   "version": "3.9.12"
  }
 },
 "nbformat": 4,
 "nbformat_minor": 5
}
