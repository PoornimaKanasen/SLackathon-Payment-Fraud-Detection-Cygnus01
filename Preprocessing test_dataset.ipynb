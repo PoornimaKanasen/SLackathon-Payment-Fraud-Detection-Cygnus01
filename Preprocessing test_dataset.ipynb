{
 "cells": [
  {
   "cell_type": "code",
   "execution_count": 1,
   "id": "ef5e9c56",
   "metadata": {},
   "outputs": [],
   "source": [
    "#Import the basic libraries\n",
    "\n",
    "import numpy as np\n",
    "import pandas as pd\n",
    "import seaborn as sns\n",
    "import matplotlib.pyplot as plt\n",
    "%matplotlib inline"
   ]
  },
  {
   "cell_type": "code",
   "execution_count": 8,
   "id": "3e2d1e63",
   "metadata": {},
   "outputs": [
    {
     "data": {
      "text/html": [
       "<div><div id=f5398f03-fbdd-4735-9559-338fa3030bed style=\"display:none; background-color:#9D6CFF; color:white; width:200px; height:30px; padding-left:5px; border-radius:4px; flex-direction:row; justify-content:space-around; align-items:center;\" onmouseover=\"this.style.backgroundColor='#BA9BF8'\" onmouseout=\"this.style.backgroundColor='#9D6CFF'\" onclick=\"window.commands?.execute('create-mitosheet-from-dataframe-output');\">See Full Dataframe in Mito</div> <script> if (window.commands?.hasCommand('create-mitosheet-from-dataframe-output')) document.getElementById('f5398f03-fbdd-4735-9559-338fa3030bed').style.display = 'flex' </script> <table border=\"1\" class=\"dataframe\">\n",
       "  <thead>\n",
       "    <tr style=\"text-align: right;\">\n",
       "      <th></th>\n",
       "      <th>trans_date_trans_time</th>\n",
       "      <th>cc_num</th>\n",
       "      <th>merchant</th>\n",
       "      <th>category</th>\n",
       "      <th>amt</th>\n",
       "      <th>first</th>\n",
       "      <th>last</th>\n",
       "      <th>gender</th>\n",
       "      <th>street</th>\n",
       "      <th>city</th>\n",
       "      <th>...</th>\n",
       "      <th>lat</th>\n",
       "      <th>long</th>\n",
       "      <th>city_pop</th>\n",
       "      <th>job</th>\n",
       "      <th>dob</th>\n",
       "      <th>trans_num</th>\n",
       "      <th>unix_time</th>\n",
       "      <th>merch_lat</th>\n",
       "      <th>merch_long</th>\n",
       "      <th>is_fraud</th>\n",
       "    </tr>\n",
       "  </thead>\n",
       "  <tbody>\n",
       "    <tr>\n",
       "      <th>225193</th>\n",
       "      <td>2020-09-09 12:28:13</td>\n",
       "      <td>3575540972310993</td>\n",
       "      <td>fraud_Cremin, Hamill and Reichel</td>\n",
       "      <td>misc_pos</td>\n",
       "      <td>2.16</td>\n",
       "      <td>Rachel</td>\n",
       "      <td>Villarreal</td>\n",
       "      <td>F</td>\n",
       "      <td>250 Carrie Throughway</td>\n",
       "      <td>University</td>\n",
       "      <td>...</td>\n",
       "      <td>34.3396</td>\n",
       "      <td>-89.5736</td>\n",
       "      <td>4198</td>\n",
       "      <td>Curator</td>\n",
       "      <td>2001-06-22</td>\n",
       "      <td>44900ee45b8228a24690c63db8ac211d</td>\n",
       "      <td>1378729693</td>\n",
       "      <td>34.577138</td>\n",
       "      <td>-90.458539</td>\n",
       "      <td>0</td>\n",
       "    </tr>\n",
       "    <tr>\n",
       "      <th>185523</th>\n",
       "      <td>2020-08-25 04:04:49</td>\n",
       "      <td>370877495212014</td>\n",
       "      <td>fraud_McDermott-Weimann</td>\n",
       "      <td>grocery_pos</td>\n",
       "      <td>207.60</td>\n",
       "      <td>Sarah</td>\n",
       "      <td>Clark</td>\n",
       "      <td>F</td>\n",
       "      <td>25961 Beverly Union Apt. 042</td>\n",
       "      <td>North Wilkesboro</td>\n",
       "      <td>...</td>\n",
       "      <td>36.2017</td>\n",
       "      <td>-81.1286</td>\n",
       "      <td>21134</td>\n",
       "      <td>Dispensing optician</td>\n",
       "      <td>1984-03-06</td>\n",
       "      <td>0425d4777e673aea01833e6b89f590a5</td>\n",
       "      <td>1377403489</td>\n",
       "      <td>36.073214</td>\n",
       "      <td>-80.181194</td>\n",
       "      <td>0</td>\n",
       "    </tr>\n",
       "  </tbody>\n",
       "</table></div>"
      ],
      "text/plain": [
       "       trans_date_trans_time            cc_num  \\\n",
       "225193   2020-09-09 12:28:13  3575540972310993   \n",
       "185523   2020-08-25 04:04:49   370877495212014   \n",
       "\n",
       "                                merchant     category     amt   first  \\\n",
       "225193  fraud_Cremin, Hamill and Reichel     misc_pos    2.16  Rachel   \n",
       "185523           fraud_McDermott-Weimann  grocery_pos  207.60   Sarah   \n",
       "\n",
       "              last gender                        street              city  \\\n",
       "225193  Villarreal      F         250 Carrie Throughway        University   \n",
       "185523       Clark      F  25961 Beverly Union Apt. 042  North Wilkesboro   \n",
       "\n",
       "        ...      lat     long  city_pop                  job         dob  \\\n",
       "225193  ...  34.3396 -89.5736      4198              Curator  2001-06-22   \n",
       "185523  ...  36.2017 -81.1286     21134  Dispensing optician  1984-03-06   \n",
       "\n",
       "                               trans_num   unix_time  merch_lat  merch_long  \\\n",
       "225193  44900ee45b8228a24690c63db8ac211d  1378729693  34.577138  -90.458539   \n",
       "185523  0425d4777e673aea01833e6b89f590a5  1377403489  36.073214  -80.181194   \n",
       "\n",
       "        is_fraud  \n",
       "225193         0  \n",
       "185523         0  \n",
       "\n",
       "[2 rows x 22 columns]"
      ]
     },
     "execution_count": 8,
     "metadata": {},
     "output_type": "execute_result"
    }
   ],
   "source": [
    "# Loading dataset\n",
    "df_test = pd.read_csv('fraudTest.csv')\n",
    "df_test.drop(df_test.columns[0], axis=1, inplace=True)\n",
    "df_test.sample(2)"
   ]
  },
  {
   "cell_type": "markdown",
   "id": "120a529a",
   "metadata": {},
   "source": [
    "#### Lets  clean the test_df set"
   ]
  },
  {
   "cell_type": "code",
   "execution_count": 7,
   "id": "cc94e31c",
   "metadata": {},
   "outputs": [
    {
     "name": "stdout",
     "output_type": "stream",
     "text": [
      "<class 'pandas.core.frame.DataFrame'>\n",
      "RangeIndex: 555719 entries, 0 to 555718\n",
      "Data columns (total 23 columns):\n",
      " #   Column                 Non-Null Count   Dtype  \n",
      "---  ------                 --------------   -----  \n",
      " 0   Unnamed: 0             555719 non-null  int64  \n",
      " 1   trans_date_trans_time  555719 non-null  object \n",
      " 2   cc_num                 555719 non-null  int64  \n",
      " 3   merchant               555719 non-null  object \n",
      " 4   category               555719 non-null  object \n",
      " 5   amt                    555719 non-null  float64\n",
      " 6   first                  555719 non-null  object \n",
      " 7   last                   555719 non-null  object \n",
      " 8   gender                 555719 non-null  object \n",
      " 9   street                 555719 non-null  object \n",
      " 10  city                   555719 non-null  object \n",
      " 11  state                  555719 non-null  object \n",
      " 12  zip                    555719 non-null  int64  \n",
      " 13  lat                    555719 non-null  float64\n",
      " 14  long                   555719 non-null  float64\n",
      " 15  city_pop               555719 non-null  int64  \n",
      " 16  job                    555719 non-null  object \n",
      " 17  dob                    555719 non-null  object \n",
      " 18  trans_num              555719 non-null  object \n",
      " 19  unix_time              555719 non-null  int64  \n",
      " 20  merch_lat              555719 non-null  float64\n",
      " 21  merch_long             555719 non-null  float64\n",
      " 22  is_fraud               555719 non-null  int64  \n",
      "dtypes: float64(5), int64(6), object(12)\n",
      "memory usage: 97.5+ MB\n"
     ]
    }
   ],
   "source": [
    "df_test.info()"
   ]
  },
  {
   "cell_type": "code",
   "execution_count": 9,
   "id": "8f5babb0",
   "metadata": {},
   "outputs": [],
   "source": [
    "# Rename columns\n",
    "df_test.rename(columns={'trans_date_trans_time':'transaction_time', \n",
    "                         \"cc_num\":\"credit_card_no\", \"amt\":\"amount(usd)\", \n",
    "                         \"trans_num\":\"transaction_id\"}, \n",
    "                inplace = True)"
   ]
  },
  {
   "cell_type": "code",
   "execution_count": 10,
   "id": "8bb0d1a8",
   "metadata": {},
   "outputs": [],
   "source": [
    "# convert data type (to datetime format & from unix_time to datetime format)\n",
    "\n",
    "from datetime import datetime,date\n",
    "\n",
    "df_test['transaction_time'] = pd.to_datetime(df_test['transaction_time'],infer_datetime_format=True)\n",
    "\n",
    "#converting from epoch time\n",
    "df_test['time'] = df_test['unix_time'].apply(datetime.utcfromtimestamp)"
   ]
  },
  {
   "cell_type": "code",
   "execution_count": 11,
   "id": "ed6e84ce",
   "metadata": {},
   "outputs": [],
   "source": [
    "# create new columns: 'Age' from Dob & hourly_basis\n",
    "\n",
    "# create new column on hourly basis\n",
    "df_test['hourly_basis'] = df_test['time'].dt.hour\n",
    "\n",
    "\n",
    "# change to datetime\n",
    "df_test['dob'] = pd.to_datetime(df_test['dob'])\n",
    "\n",
    "# change the format to MM-DD-YYYY\n",
    "df_test['dob'] = df_test['dob'].dt.strftime('%m-%d-%Y')\n",
    "\n",
    "# This function converts given date to age\n",
    "\n",
    "def age(born):\n",
    "    born = datetime.strptime(born, '%m-%d-%Y').date()\n",
    "    today = date.today()\n",
    "    return today.year - born.year - ((today.month, \n",
    "                                      today.day) < (born.month, \n",
    "                                                    born.day))\n",
    "   \n",
    "df_test['Age'] = df_test['dob'].apply(age)"
   ]
  },
  {
   "cell_type": "code",
   "execution_count": 13,
   "id": "dbae4521",
   "metadata": {},
   "outputs": [],
   "source": [
    "# convert data type\n",
    "df_test['credit_card_no'] = df_test['credit_card_no'].astype('category')"
   ]
  },
  {
   "cell_type": "code",
   "execution_count": 14,
   "id": "fe465e9e",
   "metadata": {},
   "outputs": [],
   "source": [
    "# Fixing skewness\n",
    "from sklearn.preprocessing import PowerTransformer, QuantileTransformer\n",
    "\n",
    "qt = QuantileTransformer(n_quantiles=500, output_distribution='normal')\n",
    "x = np.array(df_test['amount(usd)']).reshape(-1, 1) \n",
    "y = qt.fit_transform(x)\n",
    "df_test['amount_qt'] = y "
   ]
  },
  {
   "cell_type": "code",
   "execution_count": 15,
   "id": "17398db1",
   "metadata": {},
   "outputs": [],
   "source": [
    "# Ordinal encoding\n",
    "from sklearn.preprocessing import OrdinalEncoder\n",
    "\n",
    "OE = OrdinalEncoder(dtype=np.int64)\n",
    "df_test.loc[:,['category','merchant','job','transaction_id']] = OE.fit_transform(df_test.loc[:,['category','merchant','job','transaction_id']])"
   ]
  },
  {
   "cell_type": "code",
   "execution_count": 17,
   "id": "df5cb96d",
   "metadata": {},
   "outputs": [],
   "source": [
    "df_test.to_csv('dftest_cleaned.csv')"
   ]
  },
  {
   "cell_type": "code",
   "execution_count": null,
   "id": "9235f39f",
   "metadata": {},
   "outputs": [],
   "source": []
  }
 ],
 "metadata": {
  "kernelspec": {
   "display_name": "Python 3 (ipykernel)",
   "language": "python",
   "name": "python3"
  },
  "language_info": {
   "codemirror_mode": {
    "name": "ipython",
    "version": 3
   },
   "file_extension": ".py",
   "mimetype": "text/x-python",
   "name": "python",
   "nbconvert_exporter": "python",
   "pygments_lexer": "ipython3",
   "version": "3.9.12"
  }
 },
 "nbformat": 4,
 "nbformat_minor": 5
}
